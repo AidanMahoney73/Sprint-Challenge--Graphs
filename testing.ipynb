{
 "metadata": {
  "language_info": {
   "codemirror_mode": {
    "name": "ipython",
    "version": 3
   },
   "file_extension": ".py",
   "mimetype": "text/x-python",
   "name": "python",
   "nbconvert_exporter": "python",
   "pygments_lexer": "ipython3",
   "version": "3.7.6-final"
  },
  "orig_nbformat": 2,
  "kernelspec": {
   "name": "Python 3.7.6 64-bit ('base': conda)",
   "display_name": "Python 3.7.6 64-bit ('base': conda)",
   "metadata": {
    "interpreter": {
     "hash": "a2144c534e663abb704403faa1fa1c15e6313841525f44f1e24f8b0a872eabe8"
    }
   }
  }
 },
 "nbformat": 4,
 "nbformat_minor": 2,
 "cells": [
  {
   "cell_type": "code",
   "execution_count": 1,
   "metadata": {},
   "outputs": [],
   "source": [
    "from room import Room\n",
    "from player import Player\n",
    "from world import World\n",
    "\n",
    "import random\n",
    "from ast import literal_eval\n",
    "\n",
    "# Load world\n",
    "world = World()\n",
    "\n",
    "\n",
    "# You may uncomment the smaller graphs for development and testing purposes.\n",
    "# map_file = \"maps/test_line.txt\"\n",
    "# map_file = \"maps/test_cross.txt\"\n",
    "# map_file = \"maps/test_loop.txt\"\n",
    "map_file = \"maps/test_loop_fork.txt\"\n",
    "# map_file = \"maps/main_maze.txt\"\n",
    "\n",
    "# Loads the map into a dictionary\n",
    "room_graph=literal_eval(open(map_file, \"r\").read())\n",
    "world.load_graph(room_graph)"
   ]
  },
  {
   "cell_type": "code",
   "execution_count": 2,
   "metadata": {
    "tags": []
   },
   "outputs": [
    {
     "output_type": "stream",
     "name": "stdout",
     "text": "#####\n#                                        #\n#      017       002       014           #\n#       |         |         |            #\n#       |         |         |            #\n#      016--015--001--012--013           #\n#                 |                      #\n#                 |                      #\n#      008--007--000--003--004           #\n#       |         |                      #\n#       |         |                      #\n#      009       005                     #\n#       |         |                      #\n#       |         |                      #\n#      010--011--006                     #\n#                                        #\n\n#####\n"
    }
   ],
   "source": [
    "# Print an ASCII map\n",
    "world.print_rooms()"
   ]
  },
  {
   "cell_type": "code",
   "execution_count": 3,
   "metadata": {},
   "outputs": [],
   "source": [
    "def get_connected():\n",
    "    global player\n",
    "    exits = player.current_room.get_exits()\n",
    "    exit_ids = [player.current_room.get_room_in_direction(direction).id for direction in player.current_room.get_exits()]\n",
    "    num_exits = len(exits)\n",
    "    return num_exits, exit_ids, exits"
   ]
  },
  {
   "cell_type": "code",
   "execution_count": 4,
   "metadata": {},
   "outputs": [
    {
     "output_type": "execute_result",
     "data": {
      "text/plain": "{0: ['Start', 'Gray']}"
     },
     "metadata": {},
     "execution_count": 4
    }
   ],
   "source": [
    "# init\n",
    "player = Player(world.starting_room)\n",
    "memory = dict()\n",
    "travel_log = []\n",
    "start_loc = player.current_room.id\n",
    "memory[start_loc] = [\"Start\", \"Gray\"]\n",
    "memory"
   ]
  },
  {
   "cell_type": "code",
   "execution_count": 5,
   "metadata": {},
   "outputs": [
    {
     "output_type": "execute_result",
     "data": {
      "text/plain": "(4, [1, 5, 7, 3], ['n', 's', 'w', 'e'])"
     },
     "metadata": {},
     "execution_count": 5
    }
   ],
   "source": [
    "get_connected()"
   ]
  },
  {
   "source": [
    "# Begin Travel function"
   ],
   "cell_type": "markdown",
   "metadata": {}
  },
  {
   "cell_type": "code",
   "execution_count": 6,
   "metadata": {
    "tags": []
   },
   "outputs": [
    {
     "output_type": "stream",
     "name": "stdout",
     "text": "(4, [1, 5, 7, 3], ['n', 's', 'w', 'e'])\n0\n"
    },
    {
     "output_type": "execute_result",
     "data": {
      "text/plain": "{0: ['Start', 'Gray']}"
     },
     "metadata": {},
     "execution_count": 6
    }
   ],
   "source": [
    "print(get_connected())\n",
    "print(player.current_room.id)\n",
    "memory"
   ]
  },
  {
   "cell_type": "code",
   "execution_count": 7,
   "metadata": {},
   "outputs": [],
   "source": [
    "num_exits, exit_ids, exits = get_connected()\n",
    "for num in range(num_exits):\n",
    "    if exit_ids[num] not in memory:\n",
    "        memory[exit_ids[num]] = [player.current_room.id, \"White\"]\n",
    "mem_filter = {k:v for (k,v) in memory.items() if (k in exit_ids)&(v[1]==\"White\")}"
   ]
  },
  {
   "cell_type": "code",
   "execution_count": 8,
   "metadata": {
    "tags": []
   },
   "outputs": [],
   "source": [
    "# print(get_connected())\n",
    "# print(player.current_room.id)\n",
    "# print(memory)\n",
    "# list(mem_filter.keys())[0]"
   ]
  },
  {
   "cell_type": "code",
   "execution_count": 9,
   "metadata": {
    "tags": []
   },
   "outputs": [],
   "source": [
    "# for (k,v) in memory.items():\n",
    "#     if v[1] == \"White\":\n",
    "#         print(k,v)"
   ]
  },
  {
   "cell_type": "code",
   "execution_count": 10,
   "metadata": {},
   "outputs": [],
   "source": [
    "def travel(travel_log):\n",
    "    #1. Make sure connections to current node are in memory\n",
    "    num_exits, exit_ids, exits = get_connected()\n",
    "    for num in range(num_exits):\n",
    "        if exit_ids[num] not in memory:\n",
    "            memory[exit_ids[num]] = [player.current_room.id, \"White\"]\n",
    "\n",
    "    #2. if unexplored Nodes than travel them\n",
    "    mem_filter = {k:v for (k,v) in memory.items() if (k in exit_ids)&(v[1]==\"White\")}\n",
    "    if len(mem_filter) > 0:\n",
    "        #2.1 mark the node gray before leaving\n",
    "        memory[player.current_room.id][1] = \"Gray\"\n",
    "        #2.2 get the node we are traveling too\n",
    "        next_node = list(mem_filter.keys())[0]\n",
    "        #2.3 get the direction of the node\n",
    "        for num in range(num_exits):\n",
    "            if exit_ids[num] == next_node:\n",
    "                dir_next_node = exits[num]\n",
    "        #2.4 travel to next node\n",
    "        player.travel(exits[num])\n",
    "        #2.5 add move to travel log\n",
    "        travel_log.append(dir_next_node)\n",
    "        #2.6 Start recursion\n",
    "        travel(travel_log)\n",
    "\n",
    "    #3. if no unexplored nodes return to parent node\n",
    "    elif len(mem_filter) == 0:\n",
    "\n",
    "        #3.1 check if has parent node or is start location\n",
    "        if memory[player.current_room.id][0] != \"Start\":\n",
    "            #3.1.1 mark the node gray before leaving\n",
    "            memory[player.current_room.id][1] = \"Black\"\n",
    "            #3.1.2 get the node we are traveling too\n",
    "            next_node = memory[player.current_room.id][0]\n",
    "            #3.1.3 get the direction of the node\n",
    "            for num in range(num_exits):\n",
    "                if exit_ids[num] == next_node:\n",
    "                    dir_next_node = exits[num]\n",
    "            #3.1.4 travel to next node\n",
    "            player.travel(exits[num])\n",
    "            #3.1.5 add move to travel log\n",
    "            travel_log.append(dir_next_node)\n",
    "            #3.1.6 Start recursion\n",
    "            travel(travel_log)\n",
    "\n",
    "            #3.1.2 if start return travel_log\n",
    "        else:\n",
    "            return memory, travel_log"
   ]
  },
  {
   "cell_type": "code",
   "execution_count": null,
   "metadata": {},
   "outputs": [],
   "source": []
  },
  {
   "cell_type": "code",
   "execution_count": 11,
   "metadata": {},
   "outputs": [],
   "source": [
    "# def travel(travel_log):\n",
    "#     # When Entering a new room I should check all of its connections and ensure they are in memory\n",
    "#     # Also should set current room to gray\n",
    "#     memory[player.current_room.id][1] = \"Gray\"\n",
    "#     num_exits, exit_ids, exits = get_connected()\n",
    "#     for num in range(num_exits):\n",
    "#         if exit_ids[num] not in memory:\n",
    "#             memory[exit_ids[num]] = [player.current_room.id, \"White\"]\n",
    "\n",
    "#     # Determine where to travel Next\n",
    "#     for num in range(num_exits):\n",
    "#         if memory[exit_ids[num]][1] == \"White\":\n",
    "#             travel_log.append(exits[num])\n",
    "#             player.travel(exits[num])\n",
    "#             travel(travel_log)\n",
    "    \n",
    "#     # After traveling all paths leading to this Node we can back track to the start location\n",
    "#     # First Double check that all nodes connected to current node are not white\n",
    "#     white_count = 0\n",
    "#     for num in range(num_exits):\n",
    "#         if memory[exit_ids[num]][1] == \"White\":\n",
    "#             white_count += 1\n",
    "#     # Then find which direction leads to the parent node unless you are at the starting point\n",
    "#     if (white_count == 0) & (player.current_room.id != 0):\n",
    "#         parent_node = memory[player.current_room.id][0]\n",
    "#         for num in range(num_exits):\n",
    "#             if exit_ids[num] == parent_node:\n",
    "#                 memory[player.current_room.id][1] = \"Black\"\n",
    "#                 travel_log.append(exits[num])\n",
    "#                 player.travel(exits[num])\n",
    "#     else:\n",
    "#         memory[player.current_room.id][1] = \"Black\"\n",
    "\n",
    "#     return memory, travel_log"
   ]
  },
  {
   "cell_type": "code",
   "execution_count": 12,
   "metadata": {
    "tags": []
   },
   "outputs": [
    {
     "output_type": "error",
     "ename": "RecursionError",
     "evalue": "maximum recursion depth exceeded in comparison",
     "traceback": [
      "\u001b[1;31m---------------------------------------------------------------------------\u001b[0m",
      "\u001b[1;31mRecursionError\u001b[0m                            Traceback (most recent call last)",
      "\u001b[1;32m<ipython-input-12-91991af03c26>\u001b[0m in \u001b[0;36m<module>\u001b[1;34m\u001b[0m\n\u001b[1;32m----> 1\u001b[1;33m \u001b[0mmemory\u001b[0m\u001b[1;33m,\u001b[0m \u001b[0mtraversal_path\u001b[0m \u001b[1;33m=\u001b[0m \u001b[0mtravel\u001b[0m\u001b[1;33m(\u001b[0m\u001b[0mtravel_log\u001b[0m\u001b[1;33m)\u001b[0m\u001b[1;33m\u001b[0m\u001b[1;33m\u001b[0m\u001b[0m\n\u001b[0m",
      "\u001b[1;32m<ipython-input-10-862a3f9af3c6>\u001b[0m in \u001b[0;36mtravel\u001b[1;34m(travel_log)\u001b[0m\n\u001b[0;32m     22\u001b[0m         \u001b[0mtravel_log\u001b[0m\u001b[1;33m.\u001b[0m\u001b[0mappend\u001b[0m\u001b[1;33m(\u001b[0m\u001b[0mdir_next_node\u001b[0m\u001b[1;33m)\u001b[0m\u001b[1;33m\u001b[0m\u001b[1;33m\u001b[0m\u001b[0m\n\u001b[0;32m     23\u001b[0m         \u001b[1;31m#2.6 Start recursion\u001b[0m\u001b[1;33m\u001b[0m\u001b[1;33m\u001b[0m\u001b[1;33m\u001b[0m\u001b[0m\n\u001b[1;32m---> 24\u001b[1;33m         \u001b[0mtravel\u001b[0m\u001b[1;33m(\u001b[0m\u001b[0mtravel_log\u001b[0m\u001b[1;33m)\u001b[0m\u001b[1;33m\u001b[0m\u001b[1;33m\u001b[0m\u001b[0m\n\u001b[0m\u001b[0;32m     25\u001b[0m \u001b[1;33m\u001b[0m\u001b[0m\n\u001b[0;32m     26\u001b[0m     \u001b[1;31m#3. if no unexplored nodes return to parent node\u001b[0m\u001b[1;33m\u001b[0m\u001b[1;33m\u001b[0m\u001b[1;33m\u001b[0m\u001b[0m\n",
      "\u001b[1;32m<ipython-input-10-862a3f9af3c6>\u001b[0m in \u001b[0;36mtravel\u001b[1;34m(travel_log)\u001b[0m\n\u001b[0;32m     22\u001b[0m         \u001b[0mtravel_log\u001b[0m\u001b[1;33m.\u001b[0m\u001b[0mappend\u001b[0m\u001b[1;33m(\u001b[0m\u001b[0mdir_next_node\u001b[0m\u001b[1;33m)\u001b[0m\u001b[1;33m\u001b[0m\u001b[1;33m\u001b[0m\u001b[0m\n\u001b[0;32m     23\u001b[0m         \u001b[1;31m#2.6 Start recursion\u001b[0m\u001b[1;33m\u001b[0m\u001b[1;33m\u001b[0m\u001b[1;33m\u001b[0m\u001b[0m\n\u001b[1;32m---> 24\u001b[1;33m         \u001b[0mtravel\u001b[0m\u001b[1;33m(\u001b[0m\u001b[0mtravel_log\u001b[0m\u001b[1;33m)\u001b[0m\u001b[1;33m\u001b[0m\u001b[1;33m\u001b[0m\u001b[0m\n\u001b[0m\u001b[0;32m     25\u001b[0m \u001b[1;33m\u001b[0m\u001b[0m\n\u001b[0;32m     26\u001b[0m     \u001b[1;31m#3. if no unexplored nodes return to parent node\u001b[0m\u001b[1;33m\u001b[0m\u001b[1;33m\u001b[0m\u001b[1;33m\u001b[0m\u001b[0m\n",
      "\u001b[1;32m<ipython-input-10-862a3f9af3c6>\u001b[0m in \u001b[0;36mtravel\u001b[1;34m(travel_log)\u001b[0m\n\u001b[0;32m     42\u001b[0m             \u001b[0mtravel_log\u001b[0m\u001b[1;33m.\u001b[0m\u001b[0mappend\u001b[0m\u001b[1;33m(\u001b[0m\u001b[0mdir_next_node\u001b[0m\u001b[1;33m)\u001b[0m\u001b[1;33m\u001b[0m\u001b[1;33m\u001b[0m\u001b[0m\n\u001b[0;32m     43\u001b[0m             \u001b[1;31m#3.1.6 Start recursion\u001b[0m\u001b[1;33m\u001b[0m\u001b[1;33m\u001b[0m\u001b[1;33m\u001b[0m\u001b[0m\n\u001b[1;32m---> 44\u001b[1;33m             \u001b[0mtravel\u001b[0m\u001b[1;33m(\u001b[0m\u001b[0mtravel_log\u001b[0m\u001b[1;33m)\u001b[0m\u001b[1;33m\u001b[0m\u001b[1;33m\u001b[0m\u001b[0m\n\u001b[0m\u001b[0;32m     45\u001b[0m \u001b[1;33m\u001b[0m\u001b[0m\n\u001b[0;32m     46\u001b[0m             \u001b[1;31m#3.1.2 if start return travel_log\u001b[0m\u001b[1;33m\u001b[0m\u001b[1;33m\u001b[0m\u001b[1;33m\u001b[0m\u001b[0m\n",
      "... last 1 frames repeated, from the frame below ...\n",
      "\u001b[1;32m<ipython-input-10-862a3f9af3c6>\u001b[0m in \u001b[0;36mtravel\u001b[1;34m(travel_log)\u001b[0m\n\u001b[0;32m     42\u001b[0m             \u001b[0mtravel_log\u001b[0m\u001b[1;33m.\u001b[0m\u001b[0mappend\u001b[0m\u001b[1;33m(\u001b[0m\u001b[0mdir_next_node\u001b[0m\u001b[1;33m)\u001b[0m\u001b[1;33m\u001b[0m\u001b[1;33m\u001b[0m\u001b[0m\n\u001b[0;32m     43\u001b[0m             \u001b[1;31m#3.1.6 Start recursion\u001b[0m\u001b[1;33m\u001b[0m\u001b[1;33m\u001b[0m\u001b[1;33m\u001b[0m\u001b[0m\n\u001b[1;32m---> 44\u001b[1;33m             \u001b[0mtravel\u001b[0m\u001b[1;33m(\u001b[0m\u001b[0mtravel_log\u001b[0m\u001b[1;33m)\u001b[0m\u001b[1;33m\u001b[0m\u001b[1;33m\u001b[0m\u001b[0m\n\u001b[0m\u001b[0;32m     45\u001b[0m \u001b[1;33m\u001b[0m\u001b[0m\n\u001b[0;32m     46\u001b[0m             \u001b[1;31m#3.1.2 if start return travel_log\u001b[0m\u001b[1;33m\u001b[0m\u001b[1;33m\u001b[0m\u001b[1;33m\u001b[0m\u001b[0m\n",
      "\u001b[1;31mRecursionError\u001b[0m: maximum recursion depth exceeded in comparison"
     ]
    }
   ],
   "source": [
    "memory, traversal_path = travel(travel_log)"
   ]
  },
  {
   "cell_type": "code",
   "execution_count": null,
   "metadata": {},
   "outputs": [],
   "source": [
    "memory"
   ]
  },
  {
   "cell_type": "code",
   "execution_count": null,
   "metadata": {
    "tags": []
   },
   "outputs": [],
   "source": [
    "print(traversal_path)"
   ]
  },
  {
   "cell_type": "code",
   "execution_count": null,
   "metadata": {
    "tags": []
   },
   "outputs": [],
   "source": [
    "#! ==================== DO NOT MODIFY ====================\n",
    "# TRAVERSAL TEST - DO NOT MODIFY\n",
    "visited_rooms = set()\n",
    "player.current_room = world.starting_room\n",
    "visited_rooms.add(player.current_room)\n",
    "\n",
    "for move in traversal_path:\n",
    "    player.travel(move)\n",
    "    visited_rooms.add(player.current_room)\n",
    "\n",
    "if len(visited_rooms) == len(room_graph):\n",
    "    print(f\"TESTS PASSED: {len(traversal_path)} moves, {len(visited_rooms)} rooms visited\")\n",
    "else:\n",
    "    print(\"TESTS FAILED: INCOMPLETE TRAVERSAL\")\n",
    "    print(f\"{len(room_graph) - len(visited_rooms)} unvisited rooms\")\n",
    "#! ==================== DO NOT MODIFY ===================="
   ]
  },
  {
   "cell_type": "code",
   "execution_count": null,
   "metadata": {},
   "outputs": [],
   "source": []
  },
  {
   "cell_type": "code",
   "execution_count": null,
   "metadata": {},
   "outputs": [],
   "source": []
  },
  {
   "cell_type": "code",
   "execution_count": null,
   "metadata": {},
   "outputs": [],
   "source": []
  },
  {
   "cell_type": "code",
   "execution_count": null,
   "metadata": {},
   "outputs": [],
   "source": []
  }
 ]
}
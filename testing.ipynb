{
 "metadata": {
  "language_info": {
   "codemirror_mode": {
    "name": "ipython",
    "version": 3
   },
   "file_extension": ".py",
   "mimetype": "text/x-python",
   "name": "python",
   "nbconvert_exporter": "python",
   "pygments_lexer": "ipython3",
   "version": "3.7.6-final"
  },
  "orig_nbformat": 2,
  "kernelspec": {
   "name": "python_defaultSpec_1601285291835",
   "display_name": "Python 3.7.6 64-bit ('unit5env': conda)",
   "metadata": {
    "interpreter": {
     "hash": "a2144c534e663abb704403faa1fa1c15e6313841525f44f1e24f8b0a872eabe8"
    }
   }
  }
 },
 "nbformat": 4,
 "nbformat_minor": 2,
 "cells": [
  {
   "cell_type": "code",
   "execution_count": 1,
   "metadata": {},
   "outputs": [],
   "source": [
    "from room import Room\n",
    "from player import Player\n",
    "from world import World\n",
    "\n",
    "import random\n",
    "from ast import literal_eval\n",
    "\n",
    "# Load world\n",
    "world = World()\n",
    "\n",
    "\n",
    "# You may uncomment the smaller graphs for development and testing purposes.\n",
    "# map_file = \"maps/test_line.txt\"\n",
    "# map_file = \"maps/test_cross.txt\"\n",
    "# map_file = \"maps/test_loop.txt\"\n",
    "# map_file = \"maps/test_loop_fork.txt\"\n",
    "map_file = \"maps/main_maze.txt\"\n",
    "\n",
    "# Loads the map into a dictionary\n",
    "room_graph=literal_eval(open(map_file, \"r\").read())\n",
    "world.load_graph(room_graph)"
   ]
  },
  {
   "cell_type": "code",
   "execution_count": 2,
   "metadata": {
    "tags": []
   },
   "outputs": [
    {
     "output_type": "stream",
     "name": "stdout",
     "text": "#####\n#                                                                                                                                                           #\n#                                                        434       497--366--361  334--384--435  476                                                        #\n#                                                         |                   |    |              |                                                         #\n#                                                         |                   |    |              |                                                         #\n#                                              477--443  425            386--354--321  338  313  380--445--446                                              #\n#                                                    |    |              |         |    |    |    |    |                                                    #\n#                                                    |    |              |         |    |    |    |    |                                                    #\n#                                                   408  350  483  385  388  285  304  278  287--353  480                                                   #\n#                                                    |    |    |    |    |    |    |    |    |                                                              #\n#                                                    |    |    |    |    |    |    |    |    |                                                              #\n#                                    442  461  426  392--281  223--169  257  253  240  196--224  255  373                                                   #\n#                                     |    |    |         |         |    |    |    |    |         |    |                                                    #\n#                                     |    |    |         |         |    |    |    |    |         |    |                                                    #\n#                                    417  422--394--318--199--197--165--163--228  233--152  192--239--336--421                                              #\n#                                     |              |                   |              |    |                                                              #\n#                                     |              |                   |              |    |                                                              #\n#                          491  453--351  444  374--340  328--200--204  148--178  143  147--154--184  282  363  389                                         #\n#                           |         |    |                   |         |         |    |              |    |    |                                          #\n#                           |         |    |                   |         |         |    |              |    |    |                                          #\n#                          489  441  332  387  341--316  195  175--141  121--123--138--139--176  136--231--294--311--499                                    #\n#                           |    |    |    |         |    |         |    |                        |                                                         #\n#                           |    |    |    |         |    |         |    |                        |                                                         #\n#                     396--391  319  295  331  307  292--185--155  107  111--114--120  172  146  109  186--262--390--398                                    #\n#                           |    |    |    |    |              |    |    |              |    |    |    |              |                                     #\n#                           |    |    |    |    |              |    |    |              |    |    |    |              |                                     #\n#           452--428--411--324--289--250  277  208--166  140  082  102--064  101  093  132  086--095  098  245--343  487                                    #\n#                 |                   |    |         |    |    |         |    |    |    |    |         |    |                                               #\n#                 |                   |    |         |    |    |         |    |    |    |    |         |    |                                               #\n#           451--429  397  357--342--221--174  210  161  063--061  033  060  091  051  073  084  078--090--142  381--431                                    #\n#                      |                   |    |    |         |    |    |    |    |    |    |    |              |                                          #\n#                      |                   |    |    |         |    |    |    |    |    |    |    |              |                                          #\n#      492--400--399--358  352  297--207  124--112--106--079--046--017--028  037--042  056--067  075--088--125--238--293                                    #\n#                      |    |         |                             |    |    |         |         |    |    |                                               #\n#                      |    |         |                             |    |    |         |         |    |    |                                               #\n#           414--365--333--303  171--168--137  085  074  032  047--014  030  031  027--055  048--053  103  198--270--300--320                               #\n#                 |         |              |    |    |    |         |         |    |         |                             |                                #\n#                 |         |              |    |    |    |         |         |    |         |                             |                                #\n#                447  301--187--167--108--081--045--040--019--015--013--009  020--026  035--044--059--189--275--283--376  471                               #\n#                                          |                             |    |         |                             |                                     #\n#                                          |                             |    |         |                             |                                     #\n#                436  470  227--194--128--092  069--041--036--021  004  007--012--018--034--039--071--150--251  325  468                                    #\n#                 |    |              |    |    |    |         |    |    |         |         |    |              |                                          #\n#                 |    |              |    |    |    |         |    |    |         |         |    |              |                                          #\n#           465--368--284--254--205--162  100  072  076  011--003--000--001--022  024--025  052  115--160--214--246--412                                    #\n#                      |                        |         |         |    |         |    |                                                                   #\n#                      |                        |         |         |    |         |    |                                                                   #\n#           479--418--349  274--222--190--129  089  083--080  016--008  002--010  029  043--049--119--131--329--407                                         #\n#                 |                        |    |    |                   |    |    |    |         |                                                         #\n#                 |                        |    |    |                   |    |    |    |         |                                                         #\n#                463--458  379  226--225--105--104  099  058--023--006--005  038  054  077--130  219--305--330--454                                         #\n#                      |    |    |              |    |         |    |    |                        |         |                                               #\n#                      |    |    |              |    |         |    |    |                        |         |                                               #\n#           486--462  359  266--260  235--158--126  122  068--057  062  050--070--087  182--211  242  326  348                                              #\n#                 |    |                   |    |              |    |    |    |    |    |    |    |    |                                                    #\n#                 |    |                   |    |              |    |    |    |    |    |    |    |    |                                                    #\n#                367--344--230  243  180--164  135  145--113--094  065  066  116  117--170  248  286--288--498                                              #\n#                           |    |              |    |         |    |    |    |    |         |    |                                                         #\n#                           |    |              |    |         |    |    |    |    |         |    |                                                         #\n#                339--314--220--215--177--156--149  183  153--097  134  096  159  127--173  272  309--377--456                                              #\n#                 |                        |    |              |    |    |         |    |         |                                                         #\n#                 |                        |    |              |    |    |         |    |         |                                                         #\n#           482--404  258--236--216--213--209  191  188  157--110  144  179--201  212  202--249  371--430--440                                              #\n#            |              |         |         |    |         |    |    |    |    |    |                                                                   #\n#            |              |         |         |    |         |    |    |    |    |    |                                                                   #\n#           484  433--372--263  271--217  241--193  151--133--118--218  181  206  229  267--302--402--403--439                                              #\n#                           |    |         |    |         |         |         |    |                                                                        #\n#                           |    |         |    |         |         |         |    |                                                                        #\n#      494--457--355--312--299  310  327--256  203  247--234--259  252  244--232  237--370  364--401--427--474                                              #\n#                      |    |         |    |    |    |    |    |    |    |    |              |    |    |                                                    #\n#                      |    |         |    |    |    |    |    |    |    |    |              |    |    |                                                    #\n#                437--347  356  469--362  279  269  369  280  291  261  264  265--273--298--360  420  438                                                   #\n#                      |    |         |    |    |              |    |    |    |    |              |    |                                                    #\n#                      |    |         |    |    |              |    |    |    |    |              |    |                                                    #\n#                393--375  405  423--395  323  315--335--378  306  345  290  268  296--308--337  464  448--490                                              #\n#                      |    |                   |    |    |    |    |         |    |    |    |         |                                                    #\n#                      |    |                   |    |    |    |    |         |    |    |    |         |                                                    #\n#           493--478--413  432--473       410--406  346  466  415  409  322--276  382  317  383       475                                                   #\n#                      |    |                             |         |    |    |    |    |    |         |                                                    #\n#                      |    |                             |         |    |    |    |    |    |         |                                                    #\n#                     419  449--450                      472--495  488  424  459  455  416  460       496                                                   #\n#                                                         |                   |                                                                             #\n#                                                         |                   |                                                                             #\n#                                                   485--481                 467                                                                            #\n#                                                                                                                                                           #\n\n#####\n"
    }
   ],
   "source": [
    "# Print an ASCII map\n",
    "world.print_rooms()"
   ]
  },
  {
   "cell_type": "code",
   "execution_count": 3,
   "metadata": {},
   "outputs": [
    {
     "output_type": "execute_result",
     "data": {
      "text/plain": "{0: ['Start', 'Gray']}"
     },
     "metadata": {},
     "execution_count": 3
    }
   ],
   "source": [
    "# init\n",
    "player = Player(world.starting_room)\n",
    "memory = dict()\n",
    "travel_log = []\n",
    "start_loc = player.current_room.id\n",
    "memory[start_loc] = [\"Start\", \"Gray\"]\n",
    "memory"
   ]
  },
  {
   "cell_type": "code",
   "execution_count": 4,
   "metadata": {},
   "outputs": [],
   "source": [
    "def get_connected():\n",
    "    global player\n",
    "    exits = player.current_room.get_exits()\n",
    "    exit_ids = [player.current_room.get_room_in_direction(direction).id for direction in player.current_room.get_exits()]\n",
    "    num_exits = len(exits)\n",
    "    return num_exits, exit_ids, exits"
   ]
  },
  {
   "cell_type": "code",
   "execution_count": 5,
   "metadata": {
    "tags": []
   },
   "outputs": [
    {
     "output_type": "stream",
     "name": "stdout",
     "text": "4 [4, 8, 3, 1] ['n', 's', 'w', 'e']\n"
    }
   ],
   "source": [
    "num_exits, exit_ids, exits = get_connected()\n",
    "print(num_exits, exit_ids, exits)"
   ]
  },
  {
   "cell_type": "code",
   "execution_count": 6,
   "metadata": {},
   "outputs": [],
   "source": [
    "# unexplored = [node for node in exit_ids if node not in memory]\n",
    "# if len(unexplored) > num_exits:"
   ]
  },
  {
   "source": [
    "# Begin Travel function"
   ],
   "cell_type": "markdown",
   "metadata": {}
  },
  {
   "cell_type": "code",
   "execution_count": 7,
   "metadata": {},
   "outputs": [],
   "source": [
    "# num_exits, exit_ids, exits = get_connected()\n",
    "# for num in range(num_exits):\n",
    "#     if exit_ids[num] not in memory:\n",
    "#         memory[exit_ids[num]] = [player.current_room.id, \"White\"]\n",
    "# mem_filter = {k:v for (k,v) in memory.items() if (k in exit_ids)&(v[1]==\"White\")}"
   ]
  },
  {
   "cell_type": "code",
   "execution_count": 8,
   "metadata": {},
   "outputs": [],
   "source": [
    "def travel(travel_log):\n",
    "    # if node 0 is not black then \n",
    "    if memory[0][1] != \"Black\":\n",
    "        # then\n",
    "        # then check which nodes are connected to the current node\n",
    "        num_exits, exit_ids, exits = get_connected()\n",
    "        # if any nodes are unexplored\n",
    "        unexplored = [node for node in exit_ids if node not in memory]\n",
    "        if len(unexplored) > 0:\n",
    "            # Then make the current node gray\n",
    "            memory[player.current_room.id][1] = \"Gray\"\n",
    "            # Get the first Unexplored node\n",
    "            next_node = unexplored[0]\n",
    "            # add the new node to memory using [node_leaving, White]\n",
    "            memory[next_node] = [player.current_room.id, \"White\"]\n",
    "            # travel to the first unexplored node in the list\n",
    "            for num in range(num_exits):\n",
    "                if exit_ids[num] == next_node:\n",
    "                    dir_next_node = exits[num]\n",
    "            player.travel(dir_next_node)\n",
    "            # append the direction be travled to the travel log\n",
    "            travel_log.append(dir_next_node)\n",
    "            # Recursion\n",
    "            return travel(travel_log)\n",
    "        # else\n",
    "        else:\n",
    "            # Then Current node is marked black\n",
    "            memory[player.current_room.id][1] = \"Black\"\n",
    "            if memory[0][1] != \"Black\":\n",
    "                # travel to this nodes parent node\n",
    "                next_node = memory[player.current_room.id][0]\n",
    "                for num in range(num_exits):\n",
    "                    if exit_ids[num] == next_node:\n",
    "                        dir_next_node = exits[num]\n",
    "                player.travel(dir_next_node)\n",
    "                # Append the direction of travel to list\n",
    "                travel_log.append(dir_next_node)\n",
    "                # Recursion\n",
    "                return travel(travel_log)\n",
    "            else:\n",
    "                # print(travel_log)\n",
    "                return travel_log\n",
    "    # Else\n",
    "    else:\n",
    "        # Return travel log\n",
    "        # print(travel_log)\n",
    "        return travel_log"
   ]
  },
  {
   "source": [
    "# Old function"
   ],
   "cell_type": "markdown",
   "metadata": {}
  },
  {
   "cell_type": "code",
   "execution_count": 9,
   "metadata": {},
   "outputs": [],
   "source": [
    "# def travel(travel_log):\n",
    "#     # if node 0 is not black then \n",
    "#     if memory[0][1] != \"Black\":\n",
    "#         # then\n",
    "#         # then check which nodes are connected to the current node\n",
    "#         num_exits, exit_ids, exits = get_connected()\n",
    "#         # if any nodes are unexplored\n",
    "#         unexplored = [node for node in exit_ids if node not in memory]\n",
    "#         if len(unexplored) > 0:\n",
    "#             # Then make the current node gray\n",
    "#             memory[player.current_room.id][1] = \"Gray\"\n",
    "#             # Get the first Unexplored node\n",
    "#             next_node = unexplored[0]\n",
    "#             # add the new node to memory using [node_leaving, White]\n",
    "#             memory[next_node] = [player.current_room.id, \"White\"]\n",
    "#             # travel to the first unexplored node in the list\n",
    "#             for num in range(num_exits):\n",
    "#                 if exit_ids[num] == next_node:\n",
    "#                     dir_next_node = exits[num]\n",
    "#             player.travel(dir_next_node)\n",
    "#             # append the direction be travled to the travel log\n",
    "#             travel_log.append(dir_next_node)\n",
    "#             # Recursion\n",
    "#             travel(travel_log)\n",
    "#         # else\n",
    "#         else:\n",
    "#             # Then Current node is marked black\n",
    "#             memory[player.current_room.id][1] = \"Black\"\n",
    "#             if memory[0][1] != \"Black\":\n",
    "#                 # travel to this nodes parent node\n",
    "#                 next_node = memory[player.current_room.id][0]\n",
    "#                 for num in range(num_exits):\n",
    "#                     if exit_ids[num] == next_node:\n",
    "#                         dir_next_node = exits[num]\n",
    "#                 player.travel(dir_next_node)\n",
    "#                 # Append the direction of travel to list\n",
    "#                 travel_log.append(dir_next_node)\n",
    "#                 # Recursion\n",
    "#                 travel(travel_log)\n",
    "#             else:\n",
    "#                 print(travel_log)\n",
    "#                 return travel_log\n",
    "#     # Else\n",
    "#     else:\n",
    "#         # Return travel log\n",
    "#         print(travel_log)\n",
    "#         return travel_log"
   ]
  },
  {
   "cell_type": "code",
   "execution_count": 10,
   "metadata": {
    "tags": []
   },
   "outputs": [],
   "source": [
    "traversal_path = travel(travel_log)"
   ]
  },
  {
   "cell_type": "code",
   "execution_count": 11,
   "metadata": {
    "tags": []
   },
   "outputs": [
    {
     "output_type": "stream",
     "name": "stdout",
     "text": "['n', 's', 's', 'w', 'e', 'n', 'w', 'n', 'w', 'w', 's', 'n', 'w', 's', 's', 's', 's', 's', 's', 's', 's', 's', 's', 's', 's', 'w', 'e', 'n', 'e', 's', 'n', 'e', 's', 's', 's', 'w', 'e', 'n', 'e', 'w', 'n', 'n', 'w', 'w', 'n', 'n', 'n', 'w', 's', 's', 's', 'n', 'n', 'w', 's', 's', 'w', 'e', 'n', 'w', 'e', 'n', 'e', 'n', 'e', 'n', 'n', 'w', 's', 'w', 's', 'w', 's', 'n', 'e', 'n', 'w', 'w', 's', 's', 's', 's', 's', 's', 'e', 'w', 'n', 'e', 'w', 'n', 'n', 'n', 'w', 's', 's', 's', 's', 'n', 'w', 'w', 'e', 'e', 'n', 'w', 'e', 'n', 'w', 'e', 'n', 'w', 'w', 'w', 'e', 'e', 'e', 'e', 'n', 'w', 'w', 'e', 'e', 'n', 'w', 'e', 'e', 'e', 'e', 'n', 'w', 'w', 'n', 's', 'w', 'n', 'w', 'n', 'n', 'w', 'n', 'w', 'e', 'e', 'n', 'n', 's', 'w', 'n', 's', 'w', 'e', 'e', 'e', 'e', 'e', 'n', 'w', 'w', 'e', 'e', 'e', 'n', 'n', 'w', 'n', 'w', 'e', 's', 'w', 'e', 'e', 's', 'w', 'w', 'w', 'n', 'n', 's', 'w', 'n', 'n', 's', 'w', 'w', 'w', 'e', 'e', 'e', 's', 'w', 's', 'n', 'w', 'e', 'e', 'e', 's', 'w', 'e', 'e', 'e', 'e', 'e', 'n', 's', 'e', 'n', 's', 'e', 'n', 's', 'e', 'e', 'n', 'n', 'n', 's', 'w', 'n', 'n', 'n', 'w', 'n', 's', 'w', 'n', 'w', 'e', 's', 'e', 'e', 's', 's', 'w', 'n', 's', 'e', 's', 'w', 'w', 'n', 'n', 'w', 'n', 's', 'e', 's', 's', 'w', 'n', 's', 'w', 'n', 'n', 'n', 'n', 'n', 's', 's', 's', 's', 'w', 'n', 'n', 'n', 'n', 'n', 'n', 's', 's', 'w', 'e', 's', 's', 's', 'w', 'n', 'n', 's', 's', 'w', 'n', 'n', 'n', 's', 's', 'w', 'e', 's', 'w', 'w', 's', 'w', 'e', 'n', 'w', 'e', 'e', 'e', 'e', 'e', 's', 'w', 'w', 'e', 'e', 'e', 's', 'e', 'e', 'e', 'e', 'e', 'e', 'n', 'n', 'n', 'n', 'n', 'n', 'n', 'n', 'n', 'e', 'n', 'w', 'w', 'e', 'e', 's', 'e', 'n', 'e', 'e', 'w', 'w', 's', 's', 's', 's', 'e', 'n', 'n', 'n', 's', 's', 'e', 'n', 'n', 's', 'e', 'n', 'n', 's', 'e', 's', 'n', 'e', 'w', 'w', 's', 'w', 's', 'w', 's', 's', 's', 'w', 'n', 's', 'w', 'e', 'e', 'e', 'w', 'n', 'e', 'n', 'e', 'n', 's', 'e', 'n', 's', 'e', 'w', 'w', 'w', 's', 'e', 'w', 'w', 'n', 'w', 'n', 'n', 'n', 'w', 'w', 's', 's', 's', 'w', 'n', 'n', 's', 'w', 'n', 's', 'e', 's', 'w', 'w', 'n', 'n', 'n', 'n', 's', 's', 's', 'w', 'n', 'n', 'w', 'e', 's', 's', 'e', 's', 'w', 's', 'w', 'e', 'n', 'w', 'n', 's', 'w', 'n', 's', 'e', 'e', 'e', 'e', 'e', 'e', 'e', 'n', 'n', 's', 's', 'w', 's', 'e', 'w', 's', 's', 'e', 'e', 'w', 'w', 's', 'w', 'n', 'n', 'w', 'n', 'w', 'e', 'e', 'w', 's', 'e', 's', 's', 'e', 's', 's', 's', 'n', 'w', 's', 'w', 'e', 's', 'e', 's', 's', 's', 's', 's', 's', 's', 's', 's', 'n', 'e', 's', 's', 's', 's', 's', 's', 's', 'n', 'n', 'w', 's', 'n', 'e', 'n', 'n', 'e', 's', 's', 's', 'n', 'n', 'e', 's', 's', 'n', 'n', 'e', 's', 's', 'n', 'n', 'w', 'w', 'n', 'e', 'e', 'n', 'e', 's', 's', 'n', 'n', 'e', 's', 's', 's', 's', 'n', 'n', 'e', 'w', 'n', 'n', 'e', 'w', 'w', 'w', 's', 'w', 'w', 'w', 'n', 'w', 's', 's', 'n', 'n', 'e', 'n', 'n', 'w', 'n', 'n', 'n', 'e', 's', 's', 'n', 'n', 'e', 's', 's', 's', 's', 's', 'e', 'w', 'n', 'n', 'n', 'e', 's', 's', 'e', 'e', 'e', 'e', 'w', 'w', 'w', 'w', 'n', 'e', 'w', 'n', 'w', 'n', 'e', 'n', 'e', 's', 's', 'n', 'n', 'w', 's', 'w', 'n', 'w', 'w', 'n', 'w', 's', 's', 's', 's', 's', 's', 's', 's', 's', 's', 'n', 'n', 'n', 'n', 'n', 'w', 'n', 'n', 'n', 'n', 'n', 'w', 'e', 's', 'w', 'e', 's', 'w', 'w', 's', 'n', 'e', 'e', 's', 'w', 'e', 's', 'w', 'e', 's', 'w', 's', 's', 'n', 'w', 's', 'n', 'e', 'e', 's', 's', 's', 'n', 'n', 'n', 'w', 'n', 'w', 'n', 's', 'e', 'e', 'e', 'n', 'n', 'n', 'n', 'n', 'e', 'n', 'e', 's', 'n', 'w', 'n', 'e', 'w', 'n', 'e', 'n', 'n', 'n', 'n', 'n', 's', 's', 'e', 'n', 'n', 's', 's', 'w', 's', 's', 'e', 'n', 'e', 'n', 'n', 'n', 'n', 's', 's', 's', 'e', 'n', 'n', 'n', 's', 'e', 'n', 'n', 'e', 'n', 's', 'e', 'n', 's', 'e', 'n', 's', 'e', 'w', 'w', 'w', 'w', 's', 's', 'w', 's', 's', 'w', 's', 'w', 's', 'w', 's', 'e', 's', 's', 's', 'n', 'n', 'e', 's', 's', 'e', 'w', 'n', 'e', 'e', 's', 's', 's', 's', 's', 'e', 'e', 'w', 'w', 'n', 'e', 'e', 'w', 'w', 'n', 'e', 'n', 's', 'e', 'w', 'w', 'n', 'n', 'e', 'e', 's', 'n', 'e', 'w', 'w', 'w', 'n', 'e', 'e', 'e', 'w', 'w', 'w', 'w', 'w', 'n', 'w', 'n', 'e', 'n', 'e', 'n', 'e', 'n', 'n', 'e', 'n', 'n', 'e', 'e', 'e', 's', 'n', 'w', 'w', 'w', 's', 's', 'e', 'n', 'e', 'w', 's', 'w', 'w', 's', 'e', 's', 'n', 'e', 's', 'e', 'e', 'e', 's', 'n', 'w', 'w', 'w', 'n', 'e', 'n', 'e', 'w', 's', 'e', 'w', 'w', 'w', 'w', 's', 'w', 's', 'e', 'e', 'e', 'e', 'e', 's', 'n', 'w', 'w', 'w', 'w', 'w', 'w', 's', 'e', 's', 'n', 'e', 's', 'e', 'e', 'e', 'n', 's', 'e', 'w', 'w', 'w', 'w', 'n', 'e', 'e', 'w', 'w', 'w', 'w', 'w', 'w', 'w', 'n', 'w', 'w', 'w', 'w', 'w', 'w', 's', 's', 'n', 'w', 's', 'w', 'w', 'w', 's', 'w', 's', 'e', 's', 's', 'w', 'n', 'w', 'e', 's', 'e', 'e', 's', 'w', 'w', 's', 'w', 's', 'n', 'e', 'n', 'e', 'e', 'e', 'e', 'e', 'e', 'n', 'n', 'w', 's', 'w', 'e', 'n', 'w', 'e', 'e', 'n', 'w', 'n', 'w', 'w', 'w', 'e', 'e', 'e', 's', 'w', 'w', 's', 'w', 'n', 's', 'e', 'n', 'e', 'e', 'e', 'n', 'n', 'n', 'e', 'e', 'e', 's', 'w', 's', 'w', 's', 's', 'n', 'n', 'e', 'n', 'e', 'e']\n"
    }
   ],
   "source": [
    "print(traversal_path)"
   ]
  },
  {
   "cell_type": "code",
   "execution_count": 12,
   "metadata": {},
   "outputs": [
    {
     "output_type": "execute_result",
     "data": {
      "text/plain": "{0: ['Start', 'Black'],\n 4: [0, 'Black'],\n 8: [0, 'Black'],\n 16: [8, 'Black'],\n 3: [0, 'Black'],\n 21: [3, 'Black'],\n 36: [21, 'Black'],\n 41: [36, 'Black'],\n 76: [41, 'Black'],\n 69: [41, 'Black'],\n 72: [69, 'Black'],\n 89: [72, 'Black'],\n 104: [89, 'Black'],\n 126: [104, 'Black'],\n 135: [126, 'Black'],\n 149: [135, 'Black'],\n 191: [149, 'Black'],\n 193: [191, 'Black'],\n 203: [193, 'Black'],\n 269: [203, 'Black'],\n 315: [269, 'Black'],\n 406: [315, 'Black'],\n 410: [406, 'Black'],\n 335: [315, 'Black'],\n 346: [335, 'Black'],\n 378: [335, 'Black'],\n 466: [378, 'Black'],\n 472: [466, 'Black'],\n 481: [472, 'Black'],\n 485: [481, 'Black'],\n 495: [472, 'Black'],\n 241: [193, 'Black'],\n 256: [241, 'Black'],\n 279: [256, 'Black'],\n 323: [279, 'Black'],\n 327: [256, 'Black'],\n 362: [327, 'Black'],\n 395: [362, 'Black'],\n 423: [395, 'Black'],\n 469: [362, 'Black'],\n 156: [149, 'Black'],\n 209: [156, 'Black'],\n 213: [209, 'Black'],\n 217: [213, 'Black'],\n 271: [217, 'Black'],\n 310: [271, 'Black'],\n 216: [213, 'Black'],\n 236: [216, 'Black'],\n 263: [236, 'Black'],\n 299: [263, 'Black'],\n 356: [299, 'Black'],\n 405: [356, 'Black'],\n 432: [405, 'Black'],\n 449: [432, 'Black'],\n 450: [449, 'Black'],\n 473: [432, 'Black'],\n 312: [299, 'Black'],\n 347: [312, 'Black'],\n 375: [347, 'Black'],\n 413: [375, 'Black'],\n 419: [413, 'Black'],\n 478: [413, 'Black'],\n 493: [478, 'Black'],\n 393: [375, 'Black'],\n 437: [347, 'Black'],\n 355: [312, 'Black'],\n 457: [355, 'Black'],\n 494: [457, 'Black'],\n 372: [263, 'Black'],\n 433: [372, 'Black'],\n 258: [236, 'Black'],\n 177: [156, 'Black'],\n 215: [177, 'Black'],\n 243: [215, 'Black'],\n 220: [215, 'Black'],\n 230: [220, 'Black'],\n 344: [230, 'Black'],\n 359: [344, 'Black'],\n 458: [359, 'Black'],\n 463: [458, 'Black'],\n 418: [463, 'Black'],\n 479: [418, 'Black'],\n 349: [418, 'Black'],\n 284: [349, 'Black'],\n 470: [284, 'Black'],\n 368: [284, 'Black'],\n 436: [368, 'Black'],\n 465: [368, 'Black'],\n 254: [284, 'Black'],\n 205: [254, 'Black'],\n 162: [205, 'Black'],\n 128: [162, 'Black'],\n 194: [128, 'Black'],\n 227: [194, 'Black'],\n 92: [128, 'Black'],\n 81: [92, 'Black'],\n 137: [81, 'Black'],\n 168: [137, 'Black'],\n 207: [168, 'Black'],\n 297: [207, 'Black'],\n 171: [168, 'Black'],\n 108: [81, 'Black'],\n 167: [108, 'Black'],\n 187: [167, 'Black'],\n 303: [187, 'Black'],\n 352: [303, 'Black'],\n 333: [303, 'Black'],\n 358: [333, 'Black'],\n 397: [358, 'Black'],\n 399: [358, 'Black'],\n 400: [399, 'Black'],\n 492: [400, 'Black'],\n 365: [333, 'Black'],\n 447: [365, 'Black'],\n 414: [365, 'Black'],\n 301: [187, 'Black'],\n 45: [81, 'Black'],\n 85: [45, 'Black'],\n 40: [45, 'Black'],\n 74: [40, 'Black'],\n 19: [40, 'Black'],\n 32: [19, 'Black'],\n 15: [19, 'Black'],\n 13: [15, 'Black'],\n 14: [13, 'Black'],\n 17: [14, 'Black'],\n 33: [17, 'Black'],\n 46: [17, 'Black'],\n 61: [46, 'Black'],\n 82: [61, 'Black'],\n 155: [82, 'Black'],\n 185: [155, 'Black'],\n 195: [185, 'Black'],\n 292: [185, 'Black'],\n 316: [292, 'Black'],\n 341: [316, 'Black'],\n 63: [61, 'Black'],\n 140: [63, 'Black'],\n 79: [46, 'Black'],\n 106: [79, 'Black'],\n 161: [106, 'Black'],\n 166: [161, 'Black'],\n 208: [166, 'Black'],\n 307: [208, 'Black'],\n 112: [106, 'Black'],\n 210: [112, 'Black'],\n 124: [112, 'Black'],\n 174: [124, 'Black'],\n 277: [174, 'Black'],\n 331: [277, 'Black'],\n 387: [331, 'Black'],\n 444: [387, 'Black'],\n 221: [174, 'Black'],\n 250: [221, 'Black'],\n 295: [250, 'Black'],\n 332: [295, 'Black'],\n 351: [332, 'Black'],\n 417: [351, 'Black'],\n 442: [417, 'Black'],\n 453: [351, 'Black'],\n 289: [250, 'Black'],\n 319: [289, 'Black'],\n 441: [319, 'Black'],\n 324: [289, 'Black'],\n 391: [324, 'Black'],\n 489: [391, 'Black'],\n 491: [489, 'Black'],\n 396: [391, 'Black'],\n 411: [324, 'Black'],\n 428: [411, 'Black'],\n 429: [428, 'Black'],\n 451: [429, 'Black'],\n 452: [428, 'Black'],\n 342: [221, 'Black'],\n 357: [342, 'Black'],\n 28: [17, 'Black'],\n 60: [28, 'Black'],\n 64: [60, 'Black'],\n 111: [64, 'Black'],\n 121: [111, 'Black'],\n 148: [121, 'Black'],\n 163: [148, 'Black'],\n 257: [163, 'Black'],\n 388: [257, 'Black'],\n 386: [388, 'Black'],\n 354: [386, 'Black'],\n 361: [354, 'Black'],\n 366: [361, 'Black'],\n 497: [366, 'Black'],\n 321: [354, 'Black'],\n 334: [321, 'Black'],\n 384: [334, 'Black'],\n 435: [384, 'Black'],\n 304: [321, 'Black'],\n 240: [304, 'Black'],\n 233: [240, 'Black'],\n 152: [233, 'Black'],\n 196: [152, 'Black'],\n 278: [196, 'Black'],\n 338: [278, 'Black'],\n 224: [196, 'Black'],\n 287: [224, 'Black'],\n 313: [287, 'Black'],\n 353: [287, 'Black'],\n 380: [353, 'Black'],\n 476: [380, 'Black'],\n 445: [380, 'Black'],\n 480: [445, 'Black'],\n 446: [445, 'Black'],\n 147: [152, 'Black'],\n 139: [147, 'Black'],\n 138: [139, 'Black'],\n 143: [138, 'Black'],\n 123: [138, 'Black'],\n 176: [139, 'Black'],\n 154: [147, 'Black'],\n 192: [154, 'Black'],\n 239: [192, 'Black'],\n 255: [239, 'Black'],\n 336: [239, 'Black'],\n 373: [336, 'Black'],\n 421: [336, 'Black'],\n 184: [154, 'Black'],\n 165: [163, 'Black'],\n 169: [165, 'Black'],\n 385: [169, 'Black'],\n 223: [169, 'Black'],\n 483: [223, 'Black'],\n 197: [165, 'Black'],\n 199: [197, 'Black'],\n 281: [199, 'Black'],\n 350: [281, 'Black'],\n 425: [350, 'Black'],\n 434: [425, 'Black'],\n 392: [281, 'Black'],\n 408: [392, 'Black'],\n 443: [408, 'Black'],\n 477: [443, 'Black'],\n 318: [199, 'Black'],\n 340: [318, 'Black'],\n 374: [340, 'Black'],\n 394: [318, 'Black'],\n 426: [394, 'Black'],\n 422: [394, 'Black'],\n 461: [422, 'Black'],\n 228: [163, 'Black'],\n 253: [228, 'Black'],\n 285: [253, 'Black'],\n 178: [148, 'Black'],\n 114: [111, 'Black'],\n 120: [114, 'Black'],\n 102: [64, 'Black'],\n 107: [102, 'Black'],\n 141: [107, 'Black'],\n 175: [141, 'Black'],\n 200: [175, 'Black'],\n 328: [200, 'Black'],\n 204: [200, 'Black'],\n 30: [28, 'Black'],\n 47: [14, 'Black'],\n 9: [13, 'Black'],\n 7: [9, 'Black'],\n 1: [7, 'Black'],\n 2: [1, 'Black'],\n 5: [2, 'Black'],\n 50: [5, 'Black'],\n 66: [50, 'Black'],\n 96: [66, 'Black'],\n 179: [96, 'Black'],\n 181: [179, 'Black'],\n 201: [179, 'Black'],\n 206: [201, 'Black'],\n 232: [206, 'Black'],\n 265: [232, 'Black'],\n 268: [265, 'Black'],\n 276: [268, 'Black'],\n 459: [276, 'Black'],\n 467: [459, 'Black'],\n 322: [276, 'Black'],\n 424: [322, 'Black'],\n 273: [265, 'Black'],\n 296: [273, 'Black'],\n 382: [296, 'Black'],\n 455: [382, 'Black'],\n 308: [296, 'Black'],\n 317: [308, 'Black'],\n 416: [317, 'Black'],\n 337: [308, 'Black'],\n 383: [337, 'Black'],\n 460: [383, 'Black'],\n 298: [273, 'Black'],\n 360: [298, 'Black'],\n 364: [360, 'Black'],\n 401: [364, 'Black'],\n 420: [401, 'Black'],\n 464: [420, 'Black'],\n 427: [401, 'Black'],\n 438: [427, 'Black'],\n 448: [438, 'Black'],\n 475: [448, 'Black'],\n 496: [475, 'Black'],\n 490: [448, 'Black'],\n 474: [427, 'Black'],\n 244: [232, 'Black'],\n 264: [244, 'Black'],\n 290: [264, 'Black'],\n 70: [50, 'Black'],\n 116: [70, 'Black'],\n 159: [116, 'Black'],\n 87: [70, 'Black'],\n 117: [87, 'Black'],\n 127: [117, 'Black'],\n 212: [127, 'Black'],\n 229: [212, 'Black'],\n 237: [229, 'Black'],\n 370: [237, 'Black'],\n 173: [127, 'Black'],\n 202: [173, 'Black'],\n 267: [202, 'Black'],\n 302: [267, 'Black'],\n 402: [302, 'Black'],\n 403: [402, 'Black'],\n 439: [403, 'Black'],\n 249: [202, 'Black'],\n 170: [117, 'Black'],\n 182: [170, 'Black'],\n 211: [182, 'Black'],\n 248: [211, 'Black'],\n 272: [248, 'Black'],\n 6: [5, 'Black'],\n 62: [6, 'Black'],\n 65: [62, 'Black'],\n 134: [65, 'Black'],\n 144: [134, 'Black'],\n 218: [144, 'Black'],\n 252: [218, 'Black'],\n 261: [252, 'Black'],\n 345: [261, 'Black'],\n 409: [345, 'Black'],\n 488: [409, 'Black'],\n 118: [218, 'Black'],\n 110: [118, 'Black'],\n 97: [110, 'Black'],\n 94: [97, 'Black'],\n 57: [94, 'Black'],\n 23: [57, 'Black'],\n 58: [23, 'Black'],\n 68: [57, 'Black'],\n 113: [94, 'Black'],\n 145: [113, 'Black'],\n 183: [145, 'Black'],\n 153: [97, 'Black'],\n 157: [110, 'Black'],\n 133: [118, 'Black'],\n 234: [133, 'Black'],\n 280: [234, 'Black'],\n 247: [234, 'Black'],\n 369: [247, 'Black'],\n 259: [234, 'Black'],\n 291: [259, 'Black'],\n 306: [291, 'Black'],\n 415: [306, 'Black'],\n 151: [133, 'Black'],\n 188: [151, 'Black'],\n 10: [2, 'Black'],\n 38: [10, 'Black'],\n 22: [1, 'Black'],\n 12: [7, 'Black'],\n 20: [12, 'Black'],\n 31: [20, 'Black'],\n 37: [31, 'Black'],\n 91: [37, 'Black'],\n 101: [91, 'Black'],\n 42: [37, 'Black'],\n 51: [42, 'Black'],\n 93: [51, 'Black'],\n 26: [20, 'Black'],\n 27: [26, 'Black'],\n 55: [27, 'Black'],\n 56: [55, 'Black'],\n 73: [56, 'Black'],\n 132: [73, 'Black'],\n 172: [132, 'Black'],\n 67: [56, 'Black'],\n 84: [67, 'Black'],\n 86: [84, 'Black'],\n 146: [86, 'Black'],\n 95: [86, 'Black'],\n 109: [95, 'Black'],\n 136: [109, 'Black'],\n 231: [136, 'Black'],\n 282: [231, 'Black'],\n 294: [231, 'Black'],\n 363: [294, 'Black'],\n 311: [294, 'Black'],\n 389: [311, 'Black'],\n 499: [311, 'Black'],\n 18: [12, 'Black'],\n 24: [18, 'Black'],\n 29: [24, 'Black'],\n 54: [29, 'Black'],\n 25: [24, 'Black'],\n 43: [25, 'Black'],\n 77: [43, 'Black'],\n 130: [77, 'Black'],\n 49: [43, 'Black'],\n 119: [49, 'Black'],\n 219: [119, 'Black'],\n 242: [219, 'Black'],\n 286: [242, 'Black'],\n 309: [286, 'Black'],\n 371: [309, 'Black'],\n 430: [371, 'Black'],\n 440: [430, 'Black'],\n 377: [309, 'Black'],\n 456: [377, 'Black'],\n 288: [286, 'Black'],\n 326: [288, 'Black'],\n 498: [288, 'Black'],\n 305: [219, 'Black'],\n 330: [305, 'Black'],\n 348: [330, 'Black'],\n 454: [330, 'Black'],\n 131: [119, 'Black'],\n 329: [131, 'Black'],\n 407: [329, 'Black'],\n 34: [18, 'Black'],\n 35: [34, 'Black'],\n 44: [35, 'Black'],\n 48: [44, 'Black'],\n 53: [48, 'Black'],\n 75: [53, 'Black'],\n 78: [75, 'Black'],\n 90: [78, 'Black'],\n 98: [90, 'Black'],\n 186: [98, 'Black'],\n 262: [186, 'Black'],\n 390: [262, 'Black'],\n 398: [390, 'Black'],\n 487: [398, 'Black'],\n 142: [90, 'Black'],\n 245: [142, 'Black'],\n 343: [245, 'Black'],\n 88: [75, 'Black'],\n 103: [88, 'Black'],\n 125: [88, 'Black'],\n 198: [125, 'Black'],\n 270: [198, 'Black'],\n 300: [270, 'Black'],\n 320: [300, 'Black'],\n 471: [320, 'Black'],\n 238: [125, 'Black'],\n 381: [238, 'Black'],\n 431: [381, 'Black'],\n 293: [238, 'Black'],\n 59: [44, 'Black'],\n 189: [59, 'Black'],\n 275: [189, 'Black'],\n 283: [275, 'Black'],\n 376: [283, 'Black'],\n 468: [376, 'Black'],\n 39: [34, 'Black'],\n 52: [39, 'Black'],\n 71: [39, 'Black'],\n 115: [71, 'Black'],\n 160: [115, 'Black'],\n 214: [160, 'Black'],\n 246: [214, 'Black'],\n 325: [246, 'Black'],\n 412: [246, 'Black'],\n 150: [71, 'Black'],\n 251: [150, 'Black'],\n 100: [92, 'Black'],\n 367: [344, 'Black'],\n 462: [367, 'Black'],\n 486: [462, 'Black'],\n 314: [220, 'Black'],\n 339: [314, 'Black'],\n 404: [339, 'Black'],\n 482: [404, 'Black'],\n 484: [482, 'Black'],\n 158: [126, 'Black'],\n 164: [158, 'Black'],\n 180: [164, 'Black'],\n 235: [158, 'Black'],\n 105: [104, 'Black'],\n 129: [105, 'Black'],\n 190: [129, 'Black'],\n 222: [190, 'Black'],\n 274: [222, 'Black'],\n 225: [105, 'Black'],\n 226: [225, 'Black'],\n 260: [226, 'Black'],\n 266: [260, 'Black'],\n 379: [266, 'Black'],\n 11: [3, 'Black'],\n 80: [11, 'Black'],\n 83: [80, 'Black'],\n 99: [83, 'Black'],\n 122: [99, 'Black']}"
     },
     "metadata": {},
     "execution_count": 12
    }
   ],
   "source": [
    "memory"
   ]
  },
  {
   "cell_type": "code",
   "execution_count": 13,
   "metadata": {
    "tags": []
   },
   "outputs": [
    {
     "output_type": "stream",
     "name": "stdout",
     "text": "TESTS PASSED: 998 moves, 500 rooms visited\n"
    }
   ],
   "source": [
    "#! ==================== DO NOT MODIFY ====================\n",
    "# TRAVERSAL TEST - DO NOT MODIFY\n",
    "visited_rooms = set()\n",
    "player.current_room = world.starting_room\n",
    "visited_rooms.add(player.current_room)\n",
    "\n",
    "for move in traversal_path:\n",
    "    player.travel(move)\n",
    "    visited_rooms.add(player.current_room)\n",
    "\n",
    "if len(visited_rooms) == len(room_graph):\n",
    "    print(f\"TESTS PASSED: {len(traversal_path)} moves, {len(visited_rooms)} rooms visited\")\n",
    "else:\n",
    "    print(\"TESTS FAILED: INCOMPLETE TRAVERSAL\")\n",
    "    print(f\"{len(room_graph) - len(visited_rooms)} unvisited rooms\")\n",
    "#! ==================== DO NOT MODIFY ===================="
   ]
  }
 ]
}